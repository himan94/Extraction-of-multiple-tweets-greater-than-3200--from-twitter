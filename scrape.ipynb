{
 "cells": [
  {
   "cell_type": "markdown",
   "metadata": {},
   "source": [
    "Reference - https://github.com/bpb27/twitter_scraping"
   ]
  },
  {
   "cell_type": "code",
   "execution_count": null,
   "metadata": {},
   "outputs": [
    {
     "name": "stdout",
     "output_type": "stream",
     "text": [
      "https://twitter.com/search?f=tweets&vertical=default&q=from%3Acnn%20since%3A2017-01-03%20until%3A2017-01-04include%3Aretweets&src=typd\n",
      "2017-01-03\n"
     ]
    }
   ],
   "source": [
    "from selenium import webdriver\n",
    "from selenium.webdriver.common.keys import Keys\n",
    "from selenium.common.exceptions import NoSuchElementException, StaleElementReferenceException\n",
    "from time import sleep\n",
    "import json\n",
    "import datetime\n",
    "\n",
    "\n",
    "# edit these three variables\n",
    "user = 'CNN'\n",
    "start = datetime.datetime(2017, 1, 3)  # year, month, day\n",
    "end = datetime.datetime(2018, 3, 1)  # year, month, day\n",
    "\n",
    "# only edit these if you're having problems\n",
    "delay = 1  # time to wait on each page load before reading the page\n",
    "driver = webdriver.Chrome()  # options are Chrome() Firefox() Safari()\n",
    "\n",
    "\n",
    "# don't mess with this stuff\n",
    "twitter_ids_filename = 'all_ids.json'\n",
    "days = (end - start).days + 1\n",
    "id_selector = '.time a.tweet-timestamp'\n",
    "tweet_selector = 'li.js-stream-item'\n",
    "user = user.lower()\n",
    "ids = []\n",
    "\n",
    "def format_day(date):\n",
    "    day = '0' + str(date.day) if len(str(date.day)) == 1 else str(date.day)\n",
    "    month = '0' + str(date.month) if len(str(date.month)) == 1 else str(date.month)\n",
    "    year = str(date.year)\n",
    "    return '-'.join([year, month, day])\n",
    "\n",
    "def form_url(since, until):\n",
    "    p1 = 'https://twitter.com/search?f=tweets&vertical=default&q=from%3A'\n",
    "    p2 =  user + '%20since%3A' + since + '%20until%3A' + until + 'include%3Aretweets&src=typd'\n",
    "    return p1 + p2\n",
    "\n",
    "def increment_day(date, i):\n",
    "    return date + datetime.timedelta(days=i)\n",
    "\n",
    "for day in range(days):\n",
    "    d1 = format_day(increment_day(start, 0))\n",
    "    d2 = format_day(increment_day(start, 1))\n",
    "    url = form_url(d1, d2)\n",
    "    print(url)\n",
    "    print(d1)\n",
    "    driver.get(url)\n",
    "    sleep(delay)\n",
    "\n",
    "    try:\n",
    "        found_tweets = driver.find_elements_by_css_selector(tweet_selector)\n",
    "        increment = 10\n",
    "\n",
    "        while len(found_tweets) >= increment:\n",
    "            print('scrolling down to load more tweets')\n",
    "            driver.execute_script('window.scrollTo(0, document.body.scrollHeight);')\n",
    "            sleep(delay)\n",
    "            found_tweets = driver.find_elements_by_css_selector(tweet_selector)\n",
    "            increment += 10\n",
    "\n",
    "        print('{} tweets found, {} total'.format(len(found_tweets), len(ids)))\n",
    "\n",
    "        for tweet in found_tweets:\n",
    "            try:\n",
    "                id = tweet.find_element_by_css_selector(id_selector).get_attribute('href').split('/')[-1]\n",
    "                ids.append(id)\n",
    "            except StaleElementReferenceException as e:\n",
    "                print('lost element reference', tweet)\n",
    "\n",
    "    except NoSuchElementException:\n",
    "        print('no tweets on this day')\n",
    "\n",
    "    start = increment_day(start, 1)\n",
    "\n",
    "\n",
    "try:\n",
    "    with open(twitter_ids_filename) as f:\n",
    "        all_ids = ids + json.load(f)\n",
    "        data_to_write = list(set(all_ids))\n",
    "        print('tweets found on this scrape: ', len(ids))\n",
    "        print('total tweet count: ', len(data_to_write))\n",
    "except FileNotFoundError:\n",
    "    with open(twitter_ids_filename, 'w') as f:\n",
    "        all_ids = ids\n",
    "        data_to_write = list(set(all_ids))\n",
    "        print('tweets found on this scrape: ', len(ids))\n",
    "        print('total tweet count: ', len(data_to_write))\n",
    "\n",
    "with open(twitter_ids_filename, 'w') as outfile:\n",
    "    json.dump(data_to_write, outfile)\n",
    "\n",
    "print('all done here')\n",
    "driver.close()"
   ]
  },
  {
   "cell_type": "code",
   "execution_count": null,
   "metadata": {},
   "outputs": [],
   "source": [
    "The above block captures all the ids which would be then used to get the tweet information"
   ]
  },
  {
   "cell_type": "code",
   "execution_count": null,
   "metadata": {},
   "outputs": [],
   "source": [
    "import tweepy\n",
    "import csv\n",
    "import time"
   ]
  },
  {
   "cell_type": "code",
   "execution_count": null,
   "metadata": {},
   "outputs": [],
   "source": [
    "CONSUMER_KEY = ''\n",
    "CONSUMER_SECRET = \"\"\n",
    "OAUTH_TOKEN = \"\"\n",
    "OAUTH_TOKEN_SECRET = \"\"\n",
    "\n",
    "auth = tweepy.OAuthHandler(CONSUMER_KEY, CONSUMER_SECRET)\n",
    "auth.set_access_token(OAUTH_TOKEN, OAUTH_TOKEN_SECRET)\n",
    "api = tweepy.API(auth)\n",
    "tweets = []"
   ]
  },
  {
   "cell_type": "markdown",
   "metadata": {},
   "source": [
    "Puts the processor to sleep for 15 mins as the limit is 15 mins for the tweepy api"
   ]
  },
  {
   "cell_type": "code",
   "execution_count": null,
   "metadata": {},
   "outputs": [],
   "source": [
    "for id_no in ids:         # store the ids in this list\n",
    "    #tweet = api.get_status(int(id_no))\n",
    "    #tweets.append([tweet.id,tweet.created_at, tweet.text.encode(\"utf-8\"),tweet.favorite_count,tweet.retweet_count])\n",
    "    try:\n",
    "        tweet = api.get_status(int(id_no))\n",
    "        tweets.append([tweet.id,tweet.created_at, tweet.text.encode(\"utf-8\"),tweet.favorite_count,tweet.retweet_count])\n",
    "        # Insert into db\n",
    "    except tweepy.TweepError:\n",
    "        time.sleep(60 * 15)\n",
    "        continue\n",
    "    except StopIteration:\n",
    "        break"
   ]
  },
  {
   "cell_type": "code",
   "execution_count": null,
   "metadata": {},
   "outputs": [],
   "source": [
    "with open(\"tweetdata_CNN_new2.csv\",\"w\",encoding='utf-8') as f:\n",
    "    writer = csv.writer(f, delimiter=\",\")\n",
    "    writer.writerows(tweets)"
   ]
  }
 ],
 "metadata": {
  "kernelspec": {
   "display_name": "Python 3",
   "language": "python",
   "name": "python3"
  },
  "language_info": {
   "codemirror_mode": {
    "name": "ipython",
    "version": 3
   },
   "file_extension": ".py",
   "mimetype": "text/x-python",
   "name": "python",
   "nbconvert_exporter": "python",
   "pygments_lexer": "ipython3",
   "version": "3.6.7"
  }
 },
 "nbformat": 4,
 "nbformat_minor": 2
}
